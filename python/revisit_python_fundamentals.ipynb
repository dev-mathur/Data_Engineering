{
 "cells": [
  {
   "cell_type": "code",
   "execution_count": 1,
   "metadata": {},
   "outputs": [
    {
     "name": "stdout",
     "output_type": "stream",
     "text": [
      "hi\n"
     ]
    }
   ],
   "source": [
    "\"\"\"\n",
    "Revisit Python Fundamentals\n",
    "From RealPython\n",
    "https://realpython.com/learning-paths/python3-introduction/\n",
    "\"\"\""
   ]
  },
  {
   "cell_type": "markdown",
   "metadata": {},
   "source": [
    "**Basic Data Types in Python: A Quick Exploration**\n",
    "\n",
    "| Python Type | Basic Type |\n",
    "| ----------- | ----------- |\n",
    "| int | Integers (2) |\n",
    "| float | Decimals (2.2) |\n",
    "| complex | Complex Numbers (i) |\n",
    "| str | Strings/Chars ('hi') |\n",
    "| bytes/bytearray | Bytes (b'dev') |\n",
    "| bool | Boolean Values (True/False) |\n",
    "\n",
    "**Python Keywords**\n",
    "|  |  | | | |\n",
    "| ----------- | ----------- |----------- |----------- |----------- |\n",
    "|False\t|await\t|else\t|import\t|pass|\n",
    "|None\t|break\t|except\t|in\t|raise|\n",
    "|True\t|class\t|finally\t|is\t|return|\n",
    "|and\t|continue\t|for\t|lambda\t|try|\n",
    "|as\t|def\t|from\t|nonlocal\t|while|\n",
    "|assert\t|del\t|global\t|not\t|with|\n",
    "|async\t|elif\t|if\t|or\t|yield|\n"
   ]
  },
  {
   "cell_type": "code",
   "execution_count": null,
   "metadata": {},
   "outputs": [],
   "source": []
  }
 ],
 "metadata": {
  "kernelspec": {
   "display_name": "Python 3",
   "language": "python",
   "name": "python3"
  },
  "language_info": {
   "codemirror_mode": {
    "name": "ipython",
    "version": 3
   },
   "file_extension": ".py",
   "mimetype": "text/x-python",
   "name": "python",
   "nbconvert_exporter": "python",
   "pygments_lexer": "ipython3",
   "version": "3.12.1"
  }
 },
 "nbformat": 4,
 "nbformat_minor": 2
}
